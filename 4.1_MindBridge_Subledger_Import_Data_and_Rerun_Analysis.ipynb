{
 "cells": [
  {
   "cell_type": "markdown",
   "metadata": {
    "application/vnd.databricks.v1+cell": {
     "cellMetadata": {},
     "inputWidgets": {},
     "nuid": "60f5b575-1e4b-4099-b64e-5599561d2162",
     "showTitle": false,
     "tableResultSettingsMap": {},
     "title": ""
    }
   },
   "source": [
    "![](https://www.mindbridge.ai/wp-content/uploads/2021/07/MindBridge_Logo_Primary_RGB.png)\n",
    "# Databricks -> MindBridge Example: Ingest and Run a MindBridge Subledger Analysis"
   ]
  },
  {
   "cell_type": "markdown",
   "metadata": {
    "application/vnd.databricks.v1+cell": {
     "cellMetadata": {},
     "inputWidgets": {},
     "nuid": "b1fda035-ad65-41d0-a08c-22a72960fa92",
     "showTitle": false,
     "tableResultSettingsMap": {},
     "title": ""
    }
   },
   "source": [
    "## 🧾 Step 0: Setup Environment and Define Parameters\n",
    "\n",
    "📦 This step imports the necessary libraries and sets global parameters used throughout the notebook.\n",
    "\n",
    "- `token`: Your MindBridge API key\n",
    "- `catalog_table`: Unity Catalog table containing source data\n",
    "- `organization_id`, `engagement_id`, `analysis_type_id`: MindBridge context\n",
    "- `risk_threshold`: Minimum risk to export from results (use 0 for all entries)\n",
    "- `output_table_path`: Unity Catalog destination for result export\n"
   ]
  },
  {
   "cell_type": "code",
   "execution_count": 0,
   "metadata": {
    "application/vnd.databricks.v1+cell": {
     "cellMetadata": {},
     "inputWidgets": {},
     "nuid": "7933c8a1-b0a2-4910-bc78-93807fb35e4c",
     "showTitle": false,
     "tableResultSettingsMap": {},
     "title": ""
    }
   },
   "outputs": [],
   "source": [
    "%pip install --upgrade mindbridge-api-python-client\n",
    "dbutils.library.restartPython()"
   ]
  },
  {
   "cell_type": "markdown",
   "metadata": {
    "application/vnd.databricks.v1+cell": {
     "cellMetadata": {},
     "inputWidgets": {},
     "nuid": "6ae3f9e6-415a-414b-ad11-837485e0f13c",
     "showTitle": false,
     "tableResultSettingsMap": {},
     "title": ""
    }
   },
   "source": [
    "## 🤖 MindBridge API Authentication\n",
    "Connect to the MindBridge platform using a securely stored API token."
   ]
  },
  {
   "cell_type": "code",
   "execution_count": 0,
   "metadata": {
    "application/vnd.databricks.v1+cell": {
     "cellMetadata": {},
     "inputWidgets": {},
     "nuid": "a24b29f6-7b25-4fe3-ba2d-eae58a49bed5",
     "showTitle": false,
     "tableResultSettingsMap": {},
     "title": ""
    }
   },
   "outputs": [],
   "source": [
    "# ── MindBridge API Authentication ─────────────────────────────────────────────\n",
    "# Retrieve your API token securely from Databricks secrets and set the token equal to that API key\n",
    "#\n",
    "# Before running this cell:\n",
    "# 1. Ensure your Databricks workspace has access to a secret scope linked to an Azure Key Vault.\n",
    "# 2. Store your MindBridge API token in the Key Vault under a recognizable key name.\n",
    "# 3. Replace the values below with your actual scope and key name.\n",
    "#\n",
    "# 📍 You can create or retrieve your API token by visiting:\n",
    "#     https://[your_tenant].mindbridge.ai/app/admin/api-create-token\n",
    "\n",
    "secret_scope_name = \"integration-secret-scope\"         # Replace with your secret scope\n",
    "secret_key_name = \"mindbridge-uat-perf-api-key\"        # Replace with your key name in Azure Key Vault\n",
    "\n",
    "token = dbutils.secrets.get(scope=secret_scope_name, key=secret_key_name)\n",
    "\n",
    "print(\"✅ MindBridge API token successfully retrieved.\")\n"
   ]
  },
  {
   "cell_type": "code",
   "execution_count": 0,
   "metadata": {
    "application/vnd.databricks.v1+cell": {
     "cellMetadata": {},
     "inputWidgets": {},
     "nuid": "32c1173f-dab4-4873-a38e-424233343b0d",
     "showTitle": false,
     "tableResultSettingsMap": {},
     "title": ""
    }
   },
   "outputs": [],
   "source": [
    "# ── Unity Catalog Input Table ─────────────────────────────────────────────\n",
    "catalog = \"dbwork1\"\n",
    "schema = \"default\"\n",
    "table_name = \"vendor_demo\"\n",
    "catalog_table = f\"{catalog}.{schema}.{table_name}\"  # e.g. dbwork1.iceberg_storage.vendor_demo\n",
    "\n",
    "# ── MindBridge Configuration ──────────────────────────────────────────────\n",
    "url = \"yoursubdomain.mindbridge.ai\"\n",
    "organization_id = \"67eea6518242093533b1b9f7\"\n",
    "engagement_id = \"67eea8838242093533b1ba95\"\n",
    "analysis_type_id = \"67cde2c5f336d647f74307f0\" # In your analysis configuration file, may require MB support.\n",
    "\n",
    "# ── Analysis Results Export ───────────────────────────────────────────────\n",
    "risk_threshold = 0\n",
    "# 📌 Note: Risk score is scaled by 100 (e.g., 3000 = 30.00 UI). Use 0 to include all entries.\n",
    "\n",
    "# ── Unity Catalog Output Table ─────────────────────────────────────────────\n",
    "output_catalog = \"dbwork1\"\n",
    "output_schema = \"iceberg_storage\"\n",
    "output_table_name = \"vendor_MB_results\"\n",
    "output_table_path = f\"{output_catalog}.{output_schema}.{output_table_name}\"\n"
   ]
  },
  {
   "cell_type": "markdown",
   "metadata": {
    "application/vnd.databricks.v1+cell": {
     "cellMetadata": {},
     "inputWidgets": {},
     "nuid": "78c6b790-cc78-4793-9144-995807c36c2b",
     "showTitle": false,
     "tableResultSettingsMap": {},
     "title": ""
    }
   },
   "source": [
    "## 📡 Connect to MindBridge API\n",
    "\n",
    "Initialize the Python client and fetch your organization and engagement context from MindBridge.\n"
   ]
  },
  {
   "cell_type": "code",
   "execution_count": 0,
   "metadata": {
    "application/vnd.databricks.v1+cell": {
     "cellMetadata": {},
     "inputWidgets": {},
     "nuid": "58bcf08c-32ef-42b8-97a7-b6db4e5e8574",
     "showTitle": false,
     "tableResultSettingsMap": {},
     "title": ""
    }
   },
   "outputs": [],
   "source": [
    "# Import libraries\n",
    "import mindbridgeapi as mbapi\n",
    "from pathlib import Path\n",
    "import pandas as pd\n",
    "\n",
    "# Connect to the MindBridge server using the configured API key and tenant URL\n",
    "server = mbapi.Server(url=url, token=token)\n",
    "\n",
    "# Fetch organization and engagement context objects\n",
    "organization = server.organizations.get_by_id(organization_id)\n",
    "engagement = server.engagements.get_by_id(engagement_id)"
   ]
  },
  {
   "cell_type": "markdown",
   "metadata": {
    "application/vnd.databricks.v1+cell": {
     "cellMetadata": {},
     "inputWidgets": {},
     "nuid": "dd4b9d4a-7035-4243-8ef5-05cf0c3aa115",
     "showTitle": false,
     "tableResultSettingsMap": {},
     "title": ""
    }
   },
   "source": [
    "## 📤 Upload File to MindBridge\n",
    "\n",
    "This step uploads the prepared source file to MindBridge and registers it as the analysis source for an existing analysis.  \n",
    "It automatically applies column mappings based on file headers.\n"
   ]
  },
  {
   "cell_type": "code",
   "execution_count": 0,
   "metadata": {
    "application/vnd.databricks.v1+cell": {
     "cellMetadata": {},
     "inputWidgets": {},
     "nuid": "d455721c-c84c-43d8-96b1-24c9a7e41ff3",
     "showTitle": false,
     "tableResultSettingsMap": {},
     "title": ""
    }
   },
   "outputs": [],
   "source": [
    "import os\n",
    "\n",
    "# Read from the Iceberg table\n",
    "df = spark.read.table(catalog_table)\n",
    "\n",
    "# Convert to pandas\n",
    "pdf = df.toPandas()\n",
    "\n",
    "# Save to local path\n",
    "local_path = \"/tmp/mindbridge_source.csv\"\n",
    "pdf.to_csv(local_path, index=False)\n",
    "\n",
    "# Upload to MindBridge\n",
    "file_manager_file = server.file_manager.upload(\n",
    "    input_item=mbapi.FileManagerItem(engagement_id=engagement.id),\n",
    "    input_file=local_path,\n",
    ")\n",
    "\n",
    "print(\"✅ File uploaded to MindBridge successfully.\")"
   ]
  },
  {
   "cell_type": "markdown",
   "metadata": {
    "application/vnd.databricks.v1+cell": {
     "cellMetadata": {},
     "inputWidgets": {},
     "nuid": "571c8f19-76bc-4a37-ae04-ca10d4b0998e",
     "showTitle": false,
     "tableResultSettingsMap": {},
     "title": ""
    }
   },
   "source": [
    "## 📊 Select Active Analysis\n",
    "\n",
    "Fetch the analysis object associated with the current engagement.  \n",
    "This analysis will be used when linking the uploaded file as a new source.\n"
   ]
  },
  {
   "cell_type": "code",
   "execution_count": 0,
   "metadata": {
    "application/vnd.databricks.v1+cell": {
     "cellMetadata": {},
     "inputWidgets": {},
     "nuid": "8f33fec8-56a8-4e78-99b7-842af9dd773e",
     "showTitle": false,
     "tableResultSettingsMap": {},
     "title": ""
    }
   },
   "outputs": [],
   "source": [
    "# 🔄 Refresh the engagement to get a fresh generator\n",
    "engagement = server.engagements.get_by_id(engagement_id)\n",
    "\n",
    "# 📎 Retrieve analysis from engagement\n",
    "analyses = list(engagement.analyses)  # Convert generator to list\n",
    "\n",
    "if not analyses:\n",
    "    raise ValueError(\"❌ No analyses found in this engagement. Please create one in the MindBridge UI.\")\n",
    "elif len(analyses) > 1:\n",
    "    raise ValueError(f\"❌ Multiple analyses found ({len(analyses)}). Please ensure only one is present or filter/select explicitly.\")\n",
    "\n",
    "# ✅ Exactly one analysis found\n",
    "analysis = analyses[0]\n",
    "print(f\"✅ Using analysis (id: {analysis.id})\")"
   ]
  },
  {
   "cell_type": "markdown",
   "metadata": {
    "application/vnd.databricks.v1+cell": {
     "cellMetadata": {},
     "inputWidgets": {},
     "nuid": "d27ecc77-692c-414c-8471-d4712edadf69",
     "showTitle": false,
     "tableResultSettingsMap": {},
     "title": ""
    }
   },
   "source": [
    "## 🧱 Create Analysis Source Object\n",
    "\n",
    "Use the uploaded file to build a new `AnalysisSourceItem` and attach it to the target analysis.  \n",
    "We use the first available analysis period and set the workflow to `COMPLETED` to trigger scoring.\n",
    "\n",
    "Note: The `analysis_source_type` is pulled from the analysis type definition and should have only one option.\n"
   ]
  },
  {
   "cell_type": "code",
   "execution_count": 0,
   "metadata": {
    "application/vnd.databricks.v1+cell": {
     "cellMetadata": {},
     "inputWidgets": {},
     "nuid": "6dbb5137-2674-4ef0-9fc7-cc6b2b0119e1",
     "showTitle": false,
     "tableResultSettingsMap": {},
     "title": ""
    }
   },
   "outputs": [],
   "source": [
    "# Get analysis type definition by ID\n",
    "analysis_type = server.analysis_types.get_by_id(analysis_type_id)\n",
    "\n",
    "# There should be only one analysis_source_type associated with this analysis type\n",
    "analysis_source_type = next(analysis_type.analysis_source_types)\n",
    "try:\n",
    "    _ = next(analysis_type.analysis_source_types)  # Try fetching another, should raise StopIteration\n",
    "    raise ValueError(\"Should only be 1 analysis type\")  # Error if more than 1 found\n",
    "except StopIteration:\n",
    "    pass  # As expected — only one source type\n",
    "\n",
    "# Create the analysis source item using the uploaded file\n",
    "analysis_source = mbapi.AnalysisSourceItem(\n",
    "    engagement_id=engagement_id,\n",
    "    analysis_id=analysis.id,\n",
    "    analysis_source_type_id=analysis_source_type.id,\n",
    "    file_manager_file_id=file_manager_file.id,\n",
    "    analysis_period_id=analysis.analysis_periods[0].id,  # Use current analysis period\n",
    "    target_workflow_state=mbapi.TargetWorkflowState.COMPLETED,  # Set status to 'completed' to trigger scoring\n",
    ")\n",
    "\n",
    "# Submit the analysis source to MindBridge\n",
    "analysis_source_b = server.analysis_sources.create(analysis_source)\n",
    "print(f\"✅ Analysis source created (id: {analysis_source_b.id})\")\n",
    "print(\"🧠 Columns will be mapped automatically based on headers.\")\n"
   ]
  },
  {
   "cell_type": "markdown",
   "metadata": {
    "application/vnd.databricks.v1+cell": {
     "cellMetadata": {},
     "inputWidgets": {},
     "nuid": "dd47ca79-ec68-42ab-b1e3-05ebddf285d1",
     "showTitle": false,
     "tableResultSettingsMap": {},
     "title": ""
    }
   },
   "source": [
    "## ✅ Validate Analysis Sources and Run Analysis\n",
    "\n",
    "Before the analysis can begin, MindBridge must complete validation of uploaded sources.  \n",
    "If validation fails (e.g. due to unverified account mappings), a link to correct the issue in the UI will be shown."
   ]
  },
  {
   "cell_type": "code",
   "execution_count": 0,
   "metadata": {
    "application/vnd.databricks.v1+cell": {
     "cellMetadata": {},
     "inputWidgets": {},
     "nuid": "f1cb888f-c15b-4f18-b466-cf51a6f355f1",
     "showTitle": false,
     "tableResultSettingsMap": {},
     "title": ""
    }
   },
   "outputs": [],
   "source": [
    "try:\n",
    "    # ⏳ Wait for MindBridge to validate uploaded analysis sources\n",
    "    analysis = server.analyses.wait_for_analysis_sources(analysis)\n",
    "\n",
    "except Exception as err:\n",
    "    # 🧩 Most common issue: unverified account mappings\n",
    "    print(\"❌ Validation error:\", str(err))\n",
    "\n",
    "    # 📎 Link user to engagement's analysis list in UI\n",
    "    url_error = f\"https://{url}/app/organization/{organization.id}/engagement/{engagement.id}/analysis-list\"\n",
    "    html_code = f'<a href=\"{url_error}\" target=\"_blank\">🔗 Open Analysis in MindBridge to resolve the issue</a>'\n",
    "    displayHTML(html_code)\n",
    "\n",
    "else:\n",
    "    print(\"✅ All analysis sources validated — ready to run analysis.\")"
   ]
  },
  {
   "cell_type": "markdown",
   "metadata": {
    "application/vnd.databricks.v1+cell": {
     "cellMetadata": {},
     "inputWidgets": {},
     "nuid": "b8325e7c-da89-4931-a98e-a24b52a9223b",
     "showTitle": false,
     "tableResultSettingsMap": {},
     "title": ""
    }
   },
   "source": [
    "## ✅ Run the Analysis and Wait for Completion\n",
    "\n",
    "Once validation has passed, this step triggers your Subledger analysis in MindBridge.  \n",
    "The notebook will then wait until the analysis is finished before continuing.\n",
    "\n",
    "⏳ **Note:** Large datasets or complex configurations may take time to process.  \n",
    "You can schedule this notebook or revisit it later after execution.\n"
   ]
  },
  {
   "cell_type": "code",
   "execution_count": 0,
   "metadata": {
    "application/vnd.databricks.v1+cell": {
     "cellMetadata": {},
     "inputWidgets": {},
     "nuid": "8b6d1da9-2eab-4dc8-afc7-fb6da03b6ba5",
     "showTitle": false,
     "tableResultSettingsMap": {},
     "title": ""
    }
   },
   "outputs": [],
   "source": [
    "# 🚀 Trigger the analysis run\n",
    "analysis = server.analyses.run(analysis)\n",
    "print(\"⏳ Analysis is running. Please wait...\")\n",
    "\n",
    "# 🔁 Poll until analysis is complete\n",
    "analysis = server.analyses.wait_for_analysis(analysis)\n",
    "print(\"✅ Analysis completed successfully.\")\n",
    "print(server.http.headers[\"user-agent\"])  # Shows API client version"
   ]
  },
  {
   "cell_type": "markdown",
   "metadata": {
    "application/vnd.databricks.v1+cell": {
     "cellMetadata": {},
     "inputWidgets": {},
     "nuid": "597638d9-b833-4eb4-a18d-2ad68fb625f2",
     "showTitle": false,
     "tableResultSettingsMap": {},
     "title": ""
    }
   },
   "source": [
    "## 📊 View Analysis Results in MindBridge\n",
    "\n",
    "Once the analysis completes, we retrieve the latest result ID and generate a direct link to open the results within the MindBridge UI."
   ]
  },
  {
   "cell_type": "code",
   "execution_count": 0,
   "metadata": {
    "application/vnd.databricks.v1+cell": {
     "cellMetadata": {},
     "inputWidgets": {},
     "nuid": "dbf4fb04-c244-48c1-880b-0617ab5b67ef",
     "showTitle": false,
     "tableResultSettingsMap": {},
     "title": ""
    }
   },
   "outputs": [],
   "source": [
    "# Get the result ID for the most recent run of the analysis\n",
    "analysis_result_id = analysis.latest_analysis_result_id\n",
    "print(analysis_result_id)"
   ]
  },
  {
   "cell_type": "code",
   "execution_count": 0,
   "metadata": {
    "application/vnd.databricks.v1+cell": {
     "cellMetadata": {},
     "inputWidgets": {},
     "nuid": "63eaecc2-6c44-454a-9035-b8f7bc6f944d",
     "showTitle": false,
     "tableResultSettingsMap": {},
     "title": ""
    }
   },
   "outputs": [],
   "source": [
    "# Create a direct link to open the analysis results in MindBridge\n",
    "url_analysis = (\n",
    "    'https://' + url + '/app/organization/' + str(organization.id) +\n",
    "    '/engagement/' + engagement.id + \"/analysis/\" +\n",
    "    analysis_result_id + \"/analyze/risk-overview?\"\n",
    ")\n",
    "html_code = f'<a href=\"{url_analysis}\" target=\"_blank\">Open Analysis Results in MindBridge</a>'\n",
    "displayHTML(html_code)"
   ]
  },
  {
   "cell_type": "markdown",
   "metadata": {
    "application/vnd.databricks.v1+cell": {
     "cellMetadata": {},
     "inputWidgets": {},
     "nuid": "e2209a24-b15d-441f-a874-bec531b75891",
     "showTitle": false,
     "tableResultSettingsMap": {},
     "title": ""
    }
   },
   "source": [
    "## 💾 Prepare to Export Entries from MindBridge\n",
    "\n",
    "We'll now extract entries from the analysis based on the current `risk_threshold`, save them to a local file, and prepare for writing to Unity Catalog."
   ]
  },
  {
   "cell_type": "code",
   "execution_count": 0,
   "metadata": {
    "application/vnd.databricks.v1+cell": {
     "cellMetadata": {},
     "inputWidgets": {},
     "nuid": "3ac52e0a-8bdd-417a-a4aa-86328513202d",
     "showTitle": false,
     "tableResultSettingsMap": {},
     "title": ""
    }
   },
   "outputs": [],
   "source": [
    "# Define the output file path where results will be downloaded\n",
    "from pathlib import Path\n",
    "output_path = Path(\"/tmp/mindbridge_export_output_entries.csv\")\n"
   ]
  },
  {
   "cell_type": "code",
   "execution_count": 0,
   "metadata": {
    "application/vnd.databricks.v1+cell": {
     "cellMetadata": {},
     "inputWidgets": {},
     "nuid": "902fc987-0389-42be-9cee-d317bd05c975",
     "showTitle": false,
     "tableResultSettingsMap": {},
     "title": ""
    }
   },
   "outputs": [],
   "source": [
    "# Ensure the analysis results are refreshed before exporting\n",
    "server.analyses.restart_data_tables(analysis)\n",
    "\n",
    "# Inspect available data tables in the analysis and locate the main output\n",
    "for data_table in analysis.data_tables:\n",
    "    print(data_table.id, data_table.logical_name, data_table.type)"
   ]
  },
  {
   "cell_type": "markdown",
   "metadata": {
    "application/vnd.databricks.v1+cell": {
     "cellMetadata": {},
     "inputWidgets": {},
     "nuid": "5b7c571f-1263-4d3e-9d04-637debd2f491",
     "showTitle": false,
     "tableResultSettingsMap": {},
     "title": ""
    }
   },
   "source": [
    "## 📤 Export Filtered Entries from MindBridge\n",
    "\n",
    "This step pulls entries that meet your risk threshold and downloads the results as a local CSV file.\n"
   ]
  },
  {
   "cell_type": "code",
   "execution_count": 0,
   "metadata": {
    "application/vnd.databricks.v1+cell": {
     "cellMetadata": {},
     "inputWidgets": {},
     "nuid": "71ebed48-6d1b-40c1-8349-15d91fcf7a29",
     "showTitle": false,
     "tableResultSettingsMap": {},
     "title": ""
    }
   },
   "outputs": [],
   "source": [
    "# Define a query to extract entries with risk >= threshold (e.g. 3000 = 30.00 in UI)\n",
    "query = { \"risk\": { \"$gte\": risk_threshold } }\n",
    "\n",
    "# Start export and wait for results to be ready\n",
    "export_async_result = server.data_tables.export(data_table, query=query)\n",
    "server.data_tables.wait_for_export(export_async_result)"
   ]
  },
  {
   "cell_type": "code",
   "execution_count": 0,
   "metadata": {
    "application/vnd.databricks.v1+cell": {
     "cellMetadata": {},
     "inputWidgets": {},
     "nuid": "8b720e55-a462-4ba0-ab55-1fac0c4ce91e",
     "showTitle": false,
     "tableResultSettingsMap": {},
     "title": ""
    }
   },
   "outputs": [],
   "source": [
    "# Download the filtered entries to a local CSV file\n",
    "path_output = server.data_tables.download(\n",
    "    export_async_result,\n",
    "    output_file_path=output_path,\n",
    ")\n",
    "print(f\"✅ Success! Saved to: {path_output}\")"
   ]
  },
  {
   "cell_type": "markdown",
   "metadata": {
    "application/vnd.databricks.v1+cell": {
     "cellMetadata": {},
     "inputWidgets": {},
     "nuid": "8d77ec37-d085-494e-b6e9-b8968e16cefb",
     "showTitle": false,
     "tableResultSettingsMap": {},
     "title": ""
    }
   },
   "source": [
    "## 🚀 Save Results to Unity Catalog for Downstream Use\n",
    "We now load the exported file, convert to Spark, and write it to Unity Catalog so it can be leveraged in downstream dashboards, reports, and workflow tools."
   ]
  },
  {
   "cell_type": "code",
   "execution_count": 0,
   "metadata": {
    "application/vnd.databricks.v1+cell": {
     "cellMetadata": {},
     "inputWidgets": {},
     "nuid": "2037dc2c-26d4-4c91-bf89-1f2a79452a04",
     "showTitle": false,
     "tableResultSettingsMap": {},
     "title": ""
    }
   },
   "outputs": [],
   "source": [
    "import pandas as pd\n",
    "\n",
    "# Read the local CSV output from MindBridge\n",
    "df = pd.read_csv(output_path)\n",
    "\n",
    "# Ensure 'date' column is in datetime format\n",
    "df['date'] = pd.to_datetime(df['date'], format='%Y-%m-%d', errors='coerce')\n",
    "\n",
    "# Convert to Spark DataFrame\n",
    "spark_df = spark.createDataFrame(df)\n"
   ]
  },
  {
   "cell_type": "code",
   "execution_count": 0,
   "metadata": {
    "application/vnd.databricks.v1+cell": {
     "cellMetadata": {},
     "inputWidgets": {},
     "nuid": "a42a4d6a-15e7-47f1-b7fa-4f825cd49d12",
     "showTitle": false,
     "tableResultSettingsMap": {},
     "title": ""
    }
   },
   "outputs": [],
   "source": [
    "# Save results as a Delta table in Unity Catalog\n",
    "spark_df.write \\\n",
    "    .mode(\"overwrite\") \\\n",
    "    .format(\"delta\") \\\n",
    "    .saveAsTable(output_table_path)\n",
    "\n",
    "print(f\"📊 MindBridge results saved to Unity Catalog as: {output_table_path}\")\n",
    "print(\"📢 You can now publish this table to Power BI via the Databricks UI.\")"
   ]
  }
 ],
 "metadata": {
  "application/vnd.databricks.v1+notebook": {
   "computePreferences": null,
   "dashboards": [],
   "environmentMetadata": null,
   "inputWidgetPreferences": null,
   "language": "python",
   "notebookMetadata": {
    "pythonIndentUnit": 4
   },
   "notebookName": "4.1_MindBridge_Subledger_Import_Data_and_Rerun_Analysis",
   "widgets": {}
  },
  "language_info": {
   "name": "python"
  }
 },
 "nbformat": 4,
 "nbformat_minor": 0
}

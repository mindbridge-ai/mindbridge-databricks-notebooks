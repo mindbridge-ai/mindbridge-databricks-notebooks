{
 "cells": [
  {
   "cell_type": "markdown",
   "metadata": {
    "application/vnd.databricks.v1+cell": {
     "cellMetadata": {},
     "inputWidgets": {},
     "nuid": "d6e92c18-9d4f-4480-9033-2c5d541358e4",
     "showTitle": false,
     "tableResultSettingsMap": {},
     "title": ""
    }
   },
   "source": [
    "![](https://www.mindbridge.ai/wp-content/uploads/2021/07/MindBridge_Logo_Primary_RGB.png)\n",
    "# Databricks -> MindBridge Example : Creating an organization, engagement, and E2E analysis execution"
   ]
  },
  {
   "cell_type": "markdown",
   "metadata": {
    "application/vnd.databricks.v1+cell": {
     "cellMetadata": {},
     "inputWidgets": {},
     "nuid": "b4181d75-e2c8-4378-9642-ca28433cf14b",
     "showTitle": false,
     "tableResultSettingsMap": {},
     "title": ""
    }
   },
   "source": [
    "MindBridge API Installation in Databricks is as simple as..."
   ]
  },
  {
   "cell_type": "code",
   "execution_count": 0,
   "metadata": {
    "application/vnd.databricks.v1+cell": {
     "cellMetadata": {
      "byteLimit": 2048000,
      "rowLimit": 10000
     },
     "inputWidgets": {},
     "nuid": "7191361f-c66c-41b3-aa0c-a6ccd4dc25ae",
     "showTitle": false,
     "tableResultSettingsMap": {},
     "title": ""
    }
   },
   "outputs": [
    {
     "output_type": "stream",
     "name": "stdout",
     "output_type": "stream",
     "text": [
      "Collecting mindbridge-api-python-client\n  Downloading mindbridge_api_python_client-1.8.0-py3-none-any.whl (106 kB)\n     ━━━━━━━━━━━━━━━━━━━━━━━━━━━━━━━━━━━━━━━ 106.8/106.8 kB 1.1 MB/s eta 0:00:00\nCollecting pydantic>=2.8.1\n  Downloading pydantic-2.11.7-py3-none-any.whl (444 kB)\n     ━━━━━━━━━━━━━━━━━━━━━━━━━━━━━━━━━━━━━━ 444.8/444.8 kB 21.0 MB/s eta 0:00:00\nCollecting urllib3>=2.2.2\n  Downloading urllib3-2.5.0-py3-none-any.whl (129 kB)\n     ━━━━━━━━━━━━━━━━━━━━━━━━━━━━━━━━━━━━━━━ 129.8/129.8 kB 8.7 MB/s eta 0:00:00\nCollecting typing-extensions>=4.12.2\n  Downloading typing_extensions-4.14.1-py3-none-any.whl (43 kB)\n     ━━━━━━━━━━━━━━━━━━━━━━━━━━━━━━━━━━━━━━━━ 43.9/43.9 kB 9.7 MB/s eta 0:00:00\nCollecting pydantic-core==2.33.2\n  Downloading pydantic_core-2.33.2-cp310-cp310-manylinux_2_17_x86_64.manylinux2014_x86_64.whl (2.0 MB)\n     ━━━━━━━━━━━━━━━━━━━━━━━━━━━━━━━━━━━━━━━━ 2.0/2.0 MB 14.8 MB/s eta 0:00:00\nCollecting annotated-types>=0.6.0\n  Downloading annotated_types-0.7.0-py3-none-any.whl (13 kB)\nCollecting typing-inspection>=0.4.0\n  Downloading typing_inspection-0.4.1-py3-none-any.whl (14 kB)\nInstalling collected packages: urllib3, typing-extensions, annotated-types, typing-inspection, pydantic-core, pydantic, mindbridge-api-python-client\n  Attempting uninstall: urllib3\n    Found existing installation: urllib3 1.26.14\n    Not uninstalling urllib3 at /databricks/python3/lib/python3.10/site-packages, outside environment /local_disk0/.ephemeral_nfs/envs/pythonEnv-112d54e5-3fa9-42c0-97e0-94d7f4135765\n    Can't uninstall 'urllib3'. No files were found to uninstall.\n  Attempting uninstall: typing-extensions\n    Found existing installation: typing_extensions 4.4.0\n    Not uninstalling typing-extensions at /databricks/python3/lib/python3.10/site-packages, outside environment /local_disk0/.ephemeral_nfs/envs/pythonEnv-112d54e5-3fa9-42c0-97e0-94d7f4135765\n    Can't uninstall 'typing_extensions'. No files were found to uninstall.\n  Attempting uninstall: pydantic\n    Found existing installation: pydantic 1.10.6\n    Not uninstalling pydantic at /databricks/python3/lib/python3.10/site-packages, outside environment /local_disk0/.ephemeral_nfs/envs/pythonEnv-112d54e5-3fa9-42c0-97e0-94d7f4135765\n    Can't uninstall 'pydantic'. No files were found to uninstall.\nERROR: pip's dependency resolver does not currently take into account all the packages that are installed. This behaviour is the source of the following dependency conflicts.\nrequests 2.28.1 requires urllib3<1.27,>=1.21.1, but you have urllib3 2.5.0 which is incompatible.\nbotocore 1.27.96 requires urllib3<1.27,>=1.25.4, but you have urllib3 2.5.0 which is incompatible.\nSuccessfully installed annotated-types-0.7.0 mindbridge-api-python-client-1.8.0 pydantic-2.11.7 pydantic-core-2.33.2 typing-extensions-4.14.1 typing-inspection-0.4.1 urllib3-2.5.0\n\u001B[43mNote: you may need to restart the kernel using %restart_python or dbutils.library.restartPython() to use updated packages.\u001B[0m\n"
     ]
    }
   ],
   "source": [
    "%pip install --upgrade mindbridge-api-python-client\n",
    "dbutils.library.restartPython()"
   ]
  },
  {
   "cell_type": "markdown",
   "metadata": {
    "application/vnd.databricks.v1+cell": {
     "cellMetadata": {},
     "inputWidgets": {},
     "nuid": "fbf54a08-ea7d-4827-a98c-ef9bac382548",
     "showTitle": false,
     "tableResultSettingsMap": {},
     "title": ""
    }
   },
   "source": [
    "We start by connecting to a MindBridge tenant. If you want to find out how to create an API key for your MindBridge tenant you can check out the guide [here](https://www.mindbridge.ai/support/api/) ."
   ]
  },
  {
   "cell_type": "code",
   "execution_count": 0,
   "metadata": {
    "application/vnd.databricks.v1+cell": {
     "cellMetadata": {
      "byteLimit": 2048000,
      "rowLimit": 10000
     },
     "inputWidgets": {},
     "nuid": "4d1bf966-24ef-4e13-850a-db0cc887bdc8",
     "showTitle": false,
     "tableResultSettingsMap": {},
     "title": ""
    }
   },
   "outputs": [],
   "source": [
    "import mindbridgeapi as mbapi\n",
    "# Provide the MindBridge API URL and the API token (replace with your actual token)\n",
    "url = \"yoursubdomain.mindbridge.ai\"\n",
    "token = dbutils.secrets.get(scope=\"mindbridge-api-tutorials\", key=\"MINDBRIDGE_API_TOKEN\")\n",
    "\n",
    "\n",
    "# Initialize a connection to the MindBridge server using the API token\n",
    "server = mbapi.Server(url=url, token=token)"
   ]
  },
  {
   "cell_type": "markdown",
   "metadata": {
    "application/vnd.databricks.v1+cell": {
     "cellMetadata": {},
     "inputWidgets": {},
     "nuid": "b3a63793-34ad-4a14-9650-89bca7f736b9",
     "showTitle": false,
     "tableResultSettingsMap": {},
     "title": ""
    }
   },
   "source": [
    "Now we are going to create a Organization inside the tenant. We can open the Organization that we just created by following the link below. "
   ]
  },
  {
   "cell_type": "code",
   "execution_count": 0,
   "metadata": {
    "application/vnd.databricks.v1+cell": {
     "cellMetadata": {},
     "inputWidgets": {},
     "nuid": "9cee62b2-c330-4b9f-9f5d-8245bdd07922",
     "showTitle": false,
     "tableResultSettingsMap": {},
     "title": ""
    }
   },
   "outputs": [],
   "source": [
    "organization = mbapi.OrganizationItem(name=\"Test 1\")\n",
    "organization = server.organizations.create(organization)\n",
    "\n",
    "# Generate an URL to access your org in a browser. \n",
    "urlOrg = 'https://' + url + '/app/organization/' + str(organization.id)\n",
    "html_code = f'<a href=\"{urlOrg}\" target=\"_blank\">Open Organization In MindBridge</a>'\n",
    "displayHTML(html_code)"
   ]
  },
  {
   "cell_type": "markdown",
   "metadata": {
    "application/vnd.databricks.v1+cell": {
     "cellMetadata": {},
     "inputWidgets": {},
     "nuid": "f183c24e-86f9-4304-b459-462eca2891d8",
     "showTitle": false,
     "tableResultSettingsMap": {},
     "title": ""
    }
   },
   "source": [
    "Here we create an engagement"
   ]
  },
  {
   "cell_type": "code",
   "execution_count": 0,
   "metadata": {
    "application/vnd.databricks.v1+cell": {
     "cellMetadata": {},
     "inputWidgets": {},
     "nuid": "0bcfabd2-ec48-4c35-8cfd-2e9d2ba79529",
     "showTitle": false,
     "tableResultSettingsMap": {},
     "title": ""
    }
   },
   "outputs": [],
   "source": [
    "# Now generate an Engagement \n",
    "\n",
    "engagement = mbapi.EngagementItem(\n",
    "    name=\"Databricks Demo 3\",\n",
    "    organization_id=organization.id,\n",
    "    engagement_lead_id=organization.created_user_info.id,\n",
    ")\n",
    "engagement = server.engagements.create(engagement)\n",
    "print(f\"Created engagement {engagement.name!r} (id: {engagement.id})\")\n",
    "urlEngagement = urlOrg + '/engagement/' + engagement.id\n",
    "html_code = f'<a href=\"{urlEngagement}\" target=\"_blank\">Open Engagement In MindBridge</a>'\n",
    "displayHTML(html_code)\n"
   ]
  },
  {
   "cell_type": "markdown",
   "metadata": {
    "application/vnd.databricks.v1+cell": {
     "cellMetadata": {},
     "inputWidgets": {},
     "nuid": "1e389986-cb7d-48a2-b3be-2907c7a6ad22",
     "showTitle": false,
     "tableResultSettingsMap": {},
     "title": ""
    }
   },
   "source": [
    "We setup our analysis specifying the financial period and base currency "
   ]
  },
  {
   "cell_type": "code",
   "execution_count": 0,
   "metadata": {
    "application/vnd.databricks.v1+cell": {
     "cellMetadata": {},
     "inputWidgets": {},
     "nuid": "09835848-82ea-419a-b1e9-a50e748fe97d",
     "showTitle": false,
     "tableResultSettingsMap": {},
     "title": ""
    }
   },
   "outputs": [],
   "source": [
    "from datetime import date\n",
    "\n",
    "# Create an Analysis! analysis_periods the default is the current calendar year\n",
    "analysis_i = mbapi.AnalysisItem(\n",
    "    engagement_id=engagement.id,\n",
    "    currency_code=\"USD\",\n",
    "    analysis_periods=[\n",
    "        mbapi.AnalysisPeriod(end_date=date(2021, 12, 31), start_date=date(2021, 1, 1))\n",
    "    ],\n",
    ")\n",
    "analysis = server.analyses.create(analysis_i)\n",
    "print(f\"Created analysis {analysis.name!r} (id: {analysis.id})\")\n",
    "\n"
   ]
  },
  {
   "cell_type": "markdown",
   "metadata": {
    "application/vnd.databricks.v1+cell": {
     "cellMetadata": {},
     "inputWidgets": {},
     "nuid": "950119ff-3c28-4faf-be2c-7e9acd41bdd3",
     "showTitle": false,
     "tableResultSettingsMap": {},
     "title": ""
    }
   },
   "source": [
    "Now load a demo dataset form Databricks into the Analysis. This can be done in many different ways including streaming JSON lines etc. "
   ]
  },
  {
   "cell_type": "code",
   "execution_count": 0,
   "metadata": {
    "application/vnd.databricks.v1+cell": {
     "cellMetadata": {},
     "inputWidgets": {},
     "nuid": "51d8a79d-3525-46be-aa25-9cfe5e8d3a2a",
     "showTitle": false,
     "tableResultSettingsMap": {},
     "title": ""
    }
   },
   "outputs": [],
   "source": [
    "# Setup the data files that you want to use in your Analysis by pointing to your current file path\n",
    "gl_path = '[insert the path to your source dataset here]'\n",
    "file_manager_file = mbapi.FileManagerItem(engagement_id=analysis.engagement_id)\n",
    "file_manager_file = server.file_manager.upload(\n",
    "    input_item=file_manager_file,\n",
    "    input_file=gl_path,\n",
    ")\n"
   ]
  },
  {
   "cell_type": "markdown",
   "metadata": {
    "application/vnd.databricks.v1+cell": {
     "cellMetadata": {},
     "inputWidgets": {},
     "nuid": "2d63f66e-cb31-48e5-8063-843020f27a5b",
     "showTitle": false,
     "tableResultSettingsMap": {},
     "title": ""
    }
   },
   "source": [
    "Next we create an analysis using the file and we assume the input file is in good shape."
   ]
  },
  {
   "cell_type": "code",
   "execution_count": 0,
   "metadata": {
    "application/vnd.databricks.v1+cell": {
     "cellMetadata": {},
     "inputWidgets": {},
     "nuid": "7393e956-2d84-4a87-88ea-c5e31af17a0d",
     "showTitle": false,
     "tableResultSettingsMap": {},
     "title": ""
    }
   },
   "outputs": [],
   "source": [
    "analysis_source = mbapi.AnalysisSourceItem(\n",
    "    engagement_id=engagement.id,\n",
    "    analysis_id=analysis.id,\n",
    "    file_manager_file_id=file_manager_file.id,\n",
    "    analysis_period_id=analysis.analysis_periods[0].id,\n",
    "    target_workflow_state=mbapi.TargetWorkflowState.COMPLETED,\n",
    ")\n",
    "analysis_source_b = server.analysis_sources.create(analysis_source)\n",
    "print(f\"Created analysis_source (id: {analysis_source_b.id})\")\n",
    "print(\"Note that column mappings are auto mapped based on column names. So your column names should map to the expected model for the analysis\")"
   ]
  },
  {
   "cell_type": "markdown",
   "metadata": {
    "application/vnd.databricks.v1+cell": {
     "cellMetadata": {},
     "inputWidgets": {},
     "nuid": "8a92aba6-0878-4c0a-bf53-4125a2ed990d",
     "showTitle": false,
     "tableResultSettingsMap": {},
     "title": ""
    }
   },
   "source": [
    "Before we can run the analysis a set of validation processes must complete. If the following code shows an error you may need to correct some validation issues. An easy way to do this is to open the analysis in MindBridge and followed the guidance. "
   ]
  },
  {
   "cell_type": "code",
   "execution_count": 0,
   "metadata": {
    "application/vnd.databricks.v1+cell": {
     "cellMetadata": {},
     "inputWidgets": {},
     "nuid": "337e6321-336a-4ffb-9c2d-41e8c6a8c284",
     "showTitle": false,
     "tableResultSettingsMap": {},
     "title": ""
    }
   },
   "outputs": [],
   "source": [
    "# If following line of code throws an exception saying 'Unverified Account Mappings' then\n",
    "# open MindBridge and validate the accounts manually to proceed. This is a data integrity step\n",
    "# that must be completed as part of 'pre-flight checks'.\n",
    "\n",
    "try: \n",
    "    analysis = server.analyses.wait_for_analysis_sources(analysis)\n",
    "except Exception as err:\n",
    "    print(str(err))\n",
    "    url_error = urlEngagement+\"/analysis-list\"\n",
    "    html_code = f'<a href=\"{url_error}\" target=\"_blank\">An error occurred. View your Analysis In MindBridge to correct</a>'\n",
    "    displayHTML(html_code) \n",
    "else: \n",
    "    print(\"All analysis sources are completed\")\n"
   ]
  },
  {
   "cell_type": "markdown",
   "metadata": {
    "application/vnd.databricks.v1+cell": {
     "cellMetadata": {},
     "inputWidgets": {},
     "nuid": "cf41bfeb-2bbe-4906-9961-73fc4cb3b3f2",
     "showTitle": false,
     "tableResultSettingsMap": {},
     "title": ""
    }
   },
   "source": [
    "Next, we are going to execute our MindBridge Analysis"
   ]
  },
  {
   "cell_type": "code",
   "execution_count": 0,
   "metadata": {
    "application/vnd.databricks.v1+cell": {
     "cellMetadata": {},
     "inputWidgets": {},
     "nuid": "14e0093a-cefb-4505-95cf-62caa77bcb53",
     "showTitle": false,
     "tableResultSettingsMap": {},
     "title": ""
    }
   },
   "outputs": [],
   "source": [
    "\n",
    "analysis = server.analyses.run(analysis)\n",
    "print(\"Analysis is running. Please wait. \")"
   ]
  },
  {
   "cell_type": "markdown",
   "metadata": {
    "application/vnd.databricks.v1+cell": {
     "cellMetadata": {},
     "inputWidgets": {},
     "nuid": "90af0e94-807d-46ea-b6c8-eda299ae5941",
     "showTitle": false,
     "tableResultSettingsMap": {},
     "title": ""
    }
   },
   "source": [
    "The polling operation below will run periodically until your analysis has completed. Note: This can take several hours if you have a very large dataset, so feel free to schedule this flow or come back later to check the results."
   ]
  },
  {
   "cell_type": "code",
   "execution_count": 0,
   "metadata": {
    "application/vnd.databricks.v1+cell": {
     "cellMetadata": {},
     "inputWidgets": {},
     "nuid": "a5d23f31-6465-44c7-a7e3-b0ad892c5c9f",
     "showTitle": false,
     "tableResultSettingsMap": {},
     "title": ""
    }
   },
   "outputs": [],
   "source": [
    "try:\n",
    "    analysis = server.analyses.wait_for_analysis(analysis)\n",
    "    print(\"Your MindBridge analysis is complete.\")\n",
    "except Exception as e:\n",
    "    print(\"Your MindBridge analysis has not finished running yet.\")"
   ]
  },
  {
   "cell_type": "markdown",
   "metadata": {
    "application/vnd.databricks.v1+cell": {
     "cellMetadata": {},
     "inputWidgets": {},
     "nuid": "1e4f9ea3-9bc1-46a1-9cfb-0ae31785b261",
     "showTitle": false,
     "tableResultSettingsMap": {},
     "title": ""
    }
   },
   "source": [
    "After our analysis has completed, we'll get the results of the most recent analysis run"
   ]
  },
  {
   "cell_type": "code",
   "execution_count": 0,
   "metadata": {
    "application/vnd.databricks.v1+cell": {
     "cellMetadata": {},
     "inputWidgets": {},
     "nuid": "894972b9-5f23-459d-9091-8180b453c2ed",
     "showTitle": false,
     "tableResultSettingsMap": {},
     "title": ""
    }
   },
   "outputs": [],
   "source": [
    "#here we are obtaining the id for the most recent run of your analysis\n",
    "analysis_result_id = analysis.latest_analysis_result_id\n",
    "print(analysis_result_id)"
   ]
  },
  {
   "cell_type": "markdown",
   "metadata": {
    "application/vnd.databricks.v1+cell": {
     "cellMetadata": {},
     "inputWidgets": {},
     "nuid": "2cb758e3-989b-4190-a320-f5fd19eb5832",
     "showTitle": false,
     "tableResultSettingsMap": {},
     "title": ""
    }
   },
   "source": [
    "We can now look at the results of our analysis run within MindBridge via the generated link below."
   ]
  },
  {
   "cell_type": "code",
   "execution_count": 0,
   "metadata": {
    "application/vnd.databricks.v1+cell": {
     "cellMetadata": {},
     "inputWidgets": {},
     "nuid": "b075ebe4-86ce-4799-a342-cc07ef7885e2",
     "showTitle": false,
     "tableResultSettingsMap": {},
     "title": ""
    }
   },
   "outputs": [],
   "source": [
    "url_analysis = urlEngagement+\"/analysis/\"+analysis_result_id+\"/analyze/risk-overview?\"\n",
    "html_code = f'<a href=\"{url_analysis}\" target=\"_blank\">Open Risk Overview In MindBridge</a>'\n",
    "displayHTML(html_code)"
   ]
  }
 ],
 "metadata": {
  "application/vnd.databricks.v1+notebook": {
   "computePreferences": null,
   "dashboards": [],
   "environmentMetadata": null,
   "inputWidgetPreferences": null,
   "language": "python",
   "notebookMetadata": {
    "pythonIndentUnit": 4
   },
   "notebookName": "3_MindBridge_Databricks_E2E_Analysis_Data_Flow",
   "widgets": {}
  },
  "language_info": {
   "name": "python"
  }
 },
 "nbformat": 4,
 "nbformat_minor": 0
}

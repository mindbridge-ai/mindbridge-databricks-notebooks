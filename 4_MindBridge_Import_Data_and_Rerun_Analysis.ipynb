{
 "cells": [
  {
   "cell_type": "markdown",
   "metadata": {
    "application/vnd.databricks.v1+cell": {
     "cellMetadata": {},
     "inputWidgets": {},
     "nuid": "dce23573-3729-4b6a-8582-294c1e64b71e",
     "showTitle": false,
     "tableResultSettingsMap": {},
     "title": ""
    }
   },
   "source": [
    "![](https://www.mindbridge.ai/wp-content/uploads/2021/07/MindBridge_Logo_Primary_RGB.png)\n",
    "# Databricks -> MindBridge Example : Run MindBridge Periodic Analysis on Updated Data"
   ]
  },
  {
   "cell_type": "markdown",
   "metadata": {
    "application/vnd.databricks.v1+cell": {
     "cellMetadata": {},
     "inputWidgets": {},
     "nuid": "83e38a90-f485-4c71-a444-7f5a86cce73d",
     "showTitle": false,
     "tableResultSettingsMap": {},
     "title": ""
    }
   },
   "source": [
    "MindBridge API Installation in Databricks is as simple as..."
   ]
  },
  {
   "cell_type": "code",
   "execution_count": 0,
   "metadata": {
    "application/vnd.databricks.v1+cell": {
     "cellMetadata": {},
     "inputWidgets": {},
     "nuid": "39cbdbb8-5350-4490-a2f1-ddd46e1315a5",
     "showTitle": false,
     "tableResultSettingsMap": {},
     "title": ""
    }
   },
   "outputs": [],
   "source": [
    "%pip install --upgrade mindbridge-api-python-client\n",
    "dbutils.library.restartPython()"
   ]
  },
  {
   "cell_type": "markdown",
   "metadata": {
    "application/vnd.databricks.v1+cell": {
     "cellMetadata": {},
     "inputWidgets": {},
     "nuid": "91d9d20d-7f7b-4759-8be7-4dc327496b4c",
     "showTitle": false,
     "tableResultSettingsMap": {},
     "title": ""
    }
   },
   "source": [
    "We start by connecting to a MindBridge tenant. If you want to find out how to create an API key for your MindBridge tenant you can check out the guide [here](https://www.mindbridge.ai/support/api/) ."
   ]
  },
  {
   "cell_type": "code",
   "execution_count": 0,
   "metadata": {
    "application/vnd.databricks.v1+cell": {
     "cellMetadata": {},
     "inputWidgets": {},
     "nuid": "69e3da41-8d07-4f64-8c6a-a0023a1f5338",
     "showTitle": false,
     "tableResultSettingsMap": {},
     "title": ""
    }
   },
   "outputs": [],
   "source": [
    "import mindbridgeapi as mbapi\n",
    "\n",
    "# Provide the MindBridge API URL and the API token (replace with your actual token)\n",
    "url = \"[insert tenant].mindbridge.ai\"\n",
    "token = dbutils.secrets.get(scope=\"mindbridge-api-tutorials\", key=\"MINDBRIDGE_API_TOKEN\")\n",
    "\n",
    "# Initialize a connection to the MindBridge server using the API token\n",
    "server = mbapi.Server(url=url, token=token)"
   ]
  },
  {
   "cell_type": "markdown",
   "metadata": {
    "application/vnd.databricks.v1+cell": {
     "cellMetadata": {},
     "inputWidgets": {},
     "nuid": "6b4e0985-a769-4819-8981-fe7feb611f52",
     "showTitle": false,
     "tableResultSettingsMap": {},
     "title": ""
    }
   },
   "source": [
    "To simplify later steps, we will create and define variables for all of the needed IDs which relate to our existing analysis."
   ]
  },
  {
   "cell_type": "code",
   "execution_count": 0,
   "metadata": {
    "application/vnd.databricks.v1+cell": {
     "cellMetadata": {},
     "inputWidgets": {},
     "nuid": "be544e8a-638b-48ab-99d4-807a05198e83",
     "showTitle": false,
     "tableResultSettingsMap": {},
     "title": ""
    }
   },
   "outputs": [],
   "source": [
    "# These can be found in the URL from any page in your engagement\n",
    "organization_id = \"[insert your organization_id here]\"\n",
    "engagement_id = \"[insert your engagement_id here]\"\n",
    "\n",
    "# Pull back the information related to your organization\n",
    "organization = server.organizations.get_by_id(organization_id)\n",
    "engagement = server.engagements.get_by_id(engagement_id)"
   ]
  },
  {
   "cell_type": "markdown",
   "metadata": {
    "application/vnd.databricks.v1+cell": {
     "cellMetadata": {},
     "inputWidgets": {},
     "nuid": "51db765a-26ff-47a0-84c9-26a8a1fe886a",
     "showTitle": false,
     "tableResultSettingsMap": {},
     "title": ""
    }
   },
   "source": [
    "Now load a demo dataset from Databricks into your MindBridge Analysis. This can be done in many different ways with additional details in our knowledge base here: https://support.mindbridge.ai/hc/en-us/sections/4408298361879-Import-files\n",
    "\n",
    "Note: This requires that you have an existing Analysis set up within your tenant that you want to upload new data to.  If you have not yet set up your analysis, you can use the \"MindBridge | Databricks Analysis Data In Flow\" template to perform these steps."
   ]
  },
  {
   "cell_type": "code",
   "execution_count": 0,
   "metadata": {
    "application/vnd.databricks.v1+cell": {
     "cellMetadata": {},
     "inputWidgets": {},
     "nuid": "143e0ad3-6cfc-4406-af1f-e4596046255a",
     "showTitle": false,
     "tableResultSettingsMap": {},
     "title": ""
    }
   },
   "outputs": [],
   "source": [
    "# Setup the engagement data\n",
    "gl_path = '[insert the path to your source dataset here]'\n",
    "file_manager_file = mbapi.FileManagerItem(engagement_id=engagement.id)\n",
    "file_manager_file = server.file_manager.upload(\n",
    "    input_item=file_manager_file,\n",
    "    input_file=gl_path,\n",
    ")\n"
   ]
  },
  {
   "cell_type": "code",
   "execution_count": 0,
   "metadata": {
    "application/vnd.databricks.v1+cell": {
     "cellMetadata": {},
     "inputWidgets": {},
     "nuid": "672aded8-443b-4063-a1ad-e46f20093710",
     "showTitle": false,
     "tableResultSettingsMap": {},
     "title": ""
    }
   },
   "outputs": [],
   "source": [
    "analysis = next(engagement.analyses)"
   ]
  },
  {
   "cell_type": "markdown",
   "metadata": {
    "application/vnd.databricks.v1+cell": {
     "cellMetadata": {},
     "inputWidgets": {},
     "nuid": "d97efab2-e175-49d5-9c11-ed30839e668f",
     "showTitle": false,
     "tableResultSettingsMap": {},
     "title": ""
    }
   },
   "source": [
    "Next we create an Analysis source using the dataset that we just uploaded and we assume the input file is in good shape."
   ]
  },
  {
   "cell_type": "code",
   "execution_count": 0,
   "metadata": {
    "application/vnd.databricks.v1+cell": {
     "cellMetadata": {},
     "inputWidgets": {},
     "nuid": "734b5a05-ded1-4e35-8d61-34e1d114e286",
     "showTitle": false,
     "tableResultSettingsMap": {},
     "title": ""
    }
   },
   "outputs": [],
   "source": [
    "analysis_source = mbapi.AnalysisSourceItem(\n",
    "    engagement_id=engagement_id,\n",
    "    analysis_id=analysis.id,\n",
    "    file_manager_file_id=file_manager_file.id,\n",
    "    analysis_period_id=analysis.analysis_periods[0].id, #this is specifying the current analysis period\n",
    "    target_workflow_state=mbapi.TargetWorkflowState.COMPLETED,\n",
    ")\n",
    "analysis_source_b = server.analysis_sources.create(analysis_source)\n",
    "print(f\"Created analysis_source (id: {analysis_source_b.id})\")\n",
    "print(\"Note that column mappings are auto mapped based on column names. So your column names should map to the expected model for the analysis\")"
   ]
  },
  {
   "cell_type": "markdown",
   "metadata": {
    "application/vnd.databricks.v1+cell": {
     "cellMetadata": {},
     "inputWidgets": {},
     "nuid": "7c750ed0-093d-47ec-b224-6e4fbee6ec60",
     "showTitle": false,
     "tableResultSettingsMap": {},
     "title": ""
    }
   },
   "source": [
    "Before we can run the analysis a set of validation processes must complete. If the following code shows an error you may need to correct some validation issues. An easy way to do this is to open the analysis in MindBridge (the UI) and follow the guidance."
   ]
  },
  {
   "cell_type": "code",
   "execution_count": 0,
   "metadata": {
    "application/vnd.databricks.v1+cell": {
     "cellMetadata": {},
     "inputWidgets": {},
     "nuid": "20d7f471-4894-4c6a-a484-f1545f01f437",
     "showTitle": false,
     "tableResultSettingsMap": {},
     "title": ""
    }
   },
   "outputs": [],
   "source": [
    "# If following line of code throws an exception saying 'Unverified Account Mappings' then\n",
    "# open MindBridge and validate the accounts manually to proceed. This is a data integrity step\n",
    "# that must be completed as part of 'pre-flight checks'.\n",
    "\n",
    "try: \n",
    "    analysis = server.analyses.wait_for_analysis_sources(analysis)\n",
    "except Exception as err:\n",
    "    print(str(err))\n",
    "    url_error = 'https://'+url+'/app/organization/'+str(organization.id)+'/engagement/'+engagement.id+\"/analysis-list\"\n",
    "    html_code = f'<a href=\"{url_error}\" target=\"_blank\">An error occurred. View your Analysis In MindBridge to correct</a>'\n",
    "    displayHTML(html_code) \n",
    "else: \n",
    "    print(\"All analysis sources are completed you're ready to run an analysis.\")\n"
   ]
  },
  {
   "cell_type": "code",
   "execution_count": 0,
   "metadata": {
    "application/vnd.databricks.v1+cell": {
     "cellMetadata": {},
     "inputWidgets": {},
     "nuid": "c4659166-a7aa-4f44-986f-8a0ff7186126",
     "showTitle": false,
     "tableResultSettingsMap": {},
     "title": ""
    }
   },
   "outputs": [],
   "source": [
    "\n",
    "analysis = server.analyses.run(analysis)\n",
    "print(\"Analysis is running. Please wait. \")"
   ]
  },
  {
   "cell_type": "markdown",
   "metadata": {
    "application/vnd.databricks.v1+cell": {
     "cellMetadata": {},
     "inputWidgets": {},
     "nuid": "551a6d19-c675-4d2e-97ef-0f3a0e0647b2",
     "showTitle": false,
     "tableResultSettingsMap": {},
     "title": ""
    }
   },
   "source": [
    "The polling operation below will run periodically until your analysis has completed. Note: This can take several hours if you have a very large dataset, so feel free to schedule this flow or come back later to check the results."
   ]
  },
  {
   "cell_type": "code",
   "execution_count": 0,
   "metadata": {
    "application/vnd.databricks.v1+cell": {
     "cellMetadata": {},
     "inputWidgets": {},
     "nuid": "d85d178d-a503-46f8-9c02-8db652731143",
     "showTitle": false,
     "tableResultSettingsMap": {},
     "title": ""
    }
   },
   "outputs": [],
   "source": [
    "print(server.http.headers[\"user-agent\"])\n",
    "analysis = server.analyses.wait_for_analysis(analysis)"
   ]
  },
  {
   "cell_type": "markdown",
   "metadata": {
    "application/vnd.databricks.v1+cell": {
     "cellMetadata": {},
     "inputWidgets": {},
     "nuid": "99cc70ee-f435-4a02-a0f4-3e571a8dc9e8",
     "showTitle": false,
     "tableResultSettingsMap": {},
     "title": ""
    }
   },
   "source": [
    "When your analysis is complete, you can review your results within MindBridge"
   ]
  },
  {
   "cell_type": "code",
   "execution_count": 0,
   "metadata": {
    "application/vnd.databricks.v1+cell": {
     "cellMetadata": {},
     "inputWidgets": {},
     "nuid": "aeab6543-6134-42d2-a62f-622933efde41",
     "showTitle": false,
     "tableResultSettingsMap": {},
     "title": ""
    }
   },
   "outputs": [],
   "source": [
    "#here we are obtaining the id for the most recent run of your analysis\n",
    "analysis_result_id = analysis.latest_analysis_result_id\n",
    "print(analysis_result_id)"
   ]
  },
  {
   "cell_type": "code",
   "execution_count": 0,
   "metadata": {
    "application/vnd.databricks.v1+cell": {
     "cellMetadata": {},
     "inputWidgets": {},
     "nuid": "edc1350c-0500-4ada-9c27-16a1852bbb4c",
     "showTitle": false,
     "tableResultSettingsMap": {},
     "title": ""
    }
   },
   "outputs": [],
   "source": [
    "url_analysis = 'https://'+url+'/app/organization/'+str(organization.id)+'/engagement/'+engagement.id+\"/analysis/\"+analysis_result_id+\"/analyze/risk-overview?\"\n",
    "html_code = f'<a href=\"{url_analysis}\" target=\"_blank\">Open Risk Overview In MindBridge</a>'\n",
    "displayHTML(html_code)"
   ]
  }
 ],
 "metadata": {
  "application/vnd.databricks.v1+notebook": {
   "computePreferences": null,
   "dashboards": [],
   "environmentMetadata": null,
   "inputWidgetPreferences": null,
   "language": "python",
   "notebookMetadata": {
    "pythonIndentUnit": 4
   },
   "notebookName": "4_MindBridge_Import_Data_and_Rerun_Analysis",
   "widgets": {}
  },
  "language_info": {
   "name": "python"
  }
 },
 "nbformat": 4,
 "nbformat_minor": 0
}

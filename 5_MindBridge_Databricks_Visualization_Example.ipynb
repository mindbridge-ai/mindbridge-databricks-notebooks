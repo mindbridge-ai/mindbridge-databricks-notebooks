{
 "cells": [
  {
   "cell_type": "markdown",
   "metadata": {
    "application/vnd.databricks.v1+cell": {
     "cellMetadata": {},
     "inputWidgets": {},
     "nuid": "f5711a2e-0354-48bd-95a5-e92c7634ece6",
     "showTitle": false,
     "tableResultSettingsMap": {},
     "title": ""
    }
   },
   "source": [
    "![](https://www.mindbridge.ai/wp-content/uploads/2021/07/MindBridge_Logo_Primary_RGB.png)\n",
    "# MindBridge -> Databricks Example : Leverage MindBridge analysis results for additional visualization/analysis Example"
   ]
  },
  {
   "cell_type": "markdown",
   "metadata": {
    "application/vnd.databricks.v1+cell": {
     "cellMetadata": {},
     "inputWidgets": {},
     "nuid": "51e7795d-5713-4ad6-a772-3579e798249c",
     "showTitle": false,
     "tableResultSettingsMap": {},
     "title": ""
    }
   },
   "source": [
    "Step 1: Import necessary libraries and set up the MindBridge API connection"
   ]
  },
  {
   "cell_type": "code",
   "execution_count": 0,
   "metadata": {
    "application/vnd.databricks.v1+cell": {
     "cellMetadata": {},
     "inputWidgets": {},
     "nuid": "2aa213b9-73b4-4887-95e9-c0a014a39735",
     "showTitle": false,
     "tableResultSettingsMap": {},
     "title": ""
    }
   },
   "outputs": [],
   "source": [
    "%pip install --upgrade mindbridge-api-python-client\n",
    "dbutils.library.restartPython()"
   ]
  },
  {
   "cell_type": "code",
   "execution_count": 0,
   "metadata": {
    "application/vnd.databricks.v1+cell": {
     "cellMetadata": {},
     "inputWidgets": {},
     "nuid": "9c738122-d0b7-4a36-b063-6889d05c53c7",
     "showTitle": false,
     "tableResultSettingsMap": {},
     "title": ""
    }
   },
   "outputs": [],
   "source": [
    "import mindbridgeapi as mbapi\n",
    "\n",
    "# Provide the MindBridge API URL and the API token (replace with your actual token)\n",
    "url = \"[insert tenant].mindbridge.ai\"\n",
    "token = dbutils.secrets.get(scope=\"mindbridge-api-tutorials\", key=\"MINDBRIDGE_API_TOKEN\")\n",
    "\n",
    "# Initialize a connection to the MindBridge server using the API token\n",
    "server = mbapi.Server(url=url, token=token)"
   ]
  },
  {
   "cell_type": "markdown",
   "metadata": {
    "application/vnd.databricks.v1+cell": {
     "cellMetadata": {},
     "inputWidgets": {},
     "nuid": "cc275dc2-780e-47e4-be11-69d51d5f5587",
     "showTitle": false,
     "tableResultSettingsMap": {},
     "title": ""
    }
   },
   "source": [
    "Step 2: Define engagement and analysis details\n"
   ]
  },
  {
   "cell_type": "code",
   "execution_count": 0,
   "metadata": {
    "application/vnd.databricks.v1+cell": {
     "cellMetadata": {},
     "inputWidgets": {},
     "nuid": "2aa9a7d2-8755-40fb-8bea-6b72d86e4781",
     "showTitle": false,
     "tableResultSettingsMap": {},
     "title": ""
    }
   },
   "outputs": [],
   "source": [
    "# Replace with the actual engagement and analysis IDs\n",
    "engagement_id = \"[insert your engagement id here]\"\n",
    "\n",
    "# Fetch the engagement and related analysis information\n",
    "engagement = server.engagements.get_by_id(engagement_id)\n",
    "analysis = next(engagement.analyses)\n",
    "\n",
    "# Print the organization and analysis details for confirmation\n",
    "organization = server.organizations.get_by_id(engagement.organization_id)\n",
    "print(f\"{organization.name} / {engagement.name} / {analysis.name}\")"
   ]
  },
  {
   "cell_type": "markdown",
   "metadata": {
    "application/vnd.databricks.v1+cell": {
     "cellMetadata": {},
     "inputWidgets": {},
     "nuid": "ff46f7b1-1e77-4dff-bbdf-9bdd5486f058",
     "showTitle": false,
     "tableResultSettingsMap": {},
     "title": ""
    }
   },
   "source": [
    "Step 3: Request data for specific risk areas from the general ledger table\n"
   ]
  },
  {
   "cell_type": "code",
   "execution_count": 0,
   "metadata": {
    "application/vnd.databricks.v1+cell": {
     "cellMetadata": {},
     "inputWidgets": {},
     "nuid": "6ce4903e-1b28-4f38-b7e0-eccb577b2b35",
     "showTitle": false,
     "tableResultSettingsMap": {},
     "title": ""
    }
   },
   "outputs": [],
   "source": [
    "# Define the output file path where the results will be saved\n",
    "output_file = \"/Volumes/[insert your target file location path here]\"\n",
    "print(\"Requesting Elevated Risk General Ledger Transactions\")\n",
    "\n",
    "# Restart data tables to ensure the latest results are available for the analysis\n",
    "server.analyses.restart_data_tables(analysis)\n",
    "\n",
    "# Select the general ledger journal table from the analysis data tables\n",
    "data_table = next(x for x in analysis.data_tables if x.logical_name == \"gl_journal_tx\")"
   ]
  },
  {
   "cell_type": "markdown",
   "metadata": {
    "application/vnd.databricks.v1+cell": {
     "cellMetadata": {},
     "inputWidgets": {},
     "nuid": "2391df4a-c399-4c7d-853b-e004f11bd1ba",
     "showTitle": false,
     "tableResultSettingsMap": {},
     "title": ""
    }
   },
   "source": [
    "Step 4: Query data with specific risk criteria\n"
   ]
  },
  {
   "cell_type": "code",
   "execution_count": 0,
   "metadata": {
    "application/vnd.databricks.v1+cell": {
     "cellMetadata": {},
     "inputWidgets": {},
     "nuid": "c5a54f67-0b44-499b-abbb-71b396ab4148",
     "showTitle": false,
     "tableResultSettingsMap": {},
     "title": ""
    }
   },
   "outputs": [],
   "source": [
    "# Define a query to extract transactions with a risk score greater than or equal to 3000\n",
    "query = {\"risk\": {\"$gte\": 3000}}\n",
    "\n",
    "# Export the filtered data asynchronously\n",
    "export_async_result = server.data_tables.export(data_table, query=query)\n",
    "server.data_tables.wait_for_export(export_async_result)"
   ]
  },
  {
   "cell_type": "markdown",
   "metadata": {
    "application/vnd.databricks.v1+cell": {
     "cellMetadata": {},
     "inputWidgets": {},
     "nuid": "4ecb0543-ac87-4fb9-afd1-4da01ddc8943",
     "showTitle": false,
     "tableResultSettingsMap": {},
     "title": ""
    }
   },
   "source": [
    "Step 5: Download and save the exported data locally\n"
   ]
  },
  {
   "cell_type": "code",
   "execution_count": 0,
   "metadata": {
    "application/vnd.databricks.v1+cell": {
     "cellMetadata": {},
     "inputWidgets": {},
     "nuid": "7aaecacd-fb0b-4613-9cde-4afde70da624",
     "showTitle": false,
     "tableResultSettingsMap": {},
     "title": ""
    }
   },
   "outputs": [],
   "source": [
    "# Define the output path for saving the CSV file\n",
    "path_output = server.data_tables.download(\n",
    "    export_async_result,\n",
    "    output_file_path=output_file,\n",
    ")\n",
    "print(f\"Success! Saved to: {path_output}\")\n"
   ]
  },
  {
   "cell_type": "markdown",
   "metadata": {
    "application/vnd.databricks.v1+cell": {
     "cellMetadata": {},
     "inputWidgets": {},
     "nuid": "0da1ba12-f0dc-46d4-92e4-fe9883745263",
     "showTitle": false,
     "tableResultSettingsMap": {},
     "title": ""
    }
   },
   "source": [
    "Step 6: Load the exported CSV file into a Spark DataFrame"
   ]
  },
  {
   "cell_type": "code",
   "execution_count": 0,
   "metadata": {
    "application/vnd.databricks.v1+cell": {
     "cellMetadata": {},
     "inputWidgets": {},
     "nuid": "b7fc3862-a77b-4b6e-83bb-8f841d90c183",
     "showTitle": false,
     "tableResultSettingsMap": {},
     "title": ""
    }
   },
   "outputs": [],
   "source": [
    "# Read the CSV file saved in the previous step into a Spark DataFrame for further processing\n",
    "df = spark.read.csv(output_file,\n",
    "  header=True,\n",
    "  inferSchema=True,\n",
    "  sep=\",\")"
   ]
  },
  {
   "cell_type": "markdown",
   "metadata": {
    "application/vnd.databricks.v1+cell": {
     "cellMetadata": {},
     "inputWidgets": {},
     "nuid": "42e5466e-95b7-4270-b1ed-ced70099bdd5",
     "showTitle": false,
     "tableResultSettingsMap": {},
     "title": ""
    }
   },
   "source": [
    "Step 7: Display the DataFrame\n"
   ]
  },
  {
   "cell_type": "code",
   "execution_count": 0,
   "metadata": {
    "application/vnd.databricks.v1+cell": {
     "cellMetadata": {},
     "inputWidgets": {},
     "nuid": "f8ceac02-fd06-4905-af40-09b3845d306f",
     "showTitle": false,
     "tableResultSettingsMap": {},
     "title": ""
    }
   },
   "outputs": [],
   "source": [
    "display(df)"
   ]
  },
  {
   "cell_type": "markdown",
   "metadata": {
    "application/vnd.databricks.v1+cell": {
     "cellMetadata": {},
     "inputWidgets": {},
     "nuid": "3d4afdd1-fd15-42a9-b84b-0f734504f7f0",
     "showTitle": false,
     "tableResultSettingsMap": {},
     "title": ""
    }
   },
   "source": [
    "Step 8: Store the DataFrame in a Unity Catalog table\n"
   ]
  },
  {
   "cell_type": "code",
   "execution_count": 0,
   "metadata": {
    "application/vnd.databricks.v1+cell": {
     "cellMetadata": {},
     "inputWidgets": {},
     "nuid": "8e328bbc-ada1-4bf5-9b06-925806bddd40",
     "showTitle": false,
     "tableResultSettingsMap": {},
     "title": ""
    }
   },
   "outputs": [],
   "source": [
    "df.write.format(\"delta\").mode(\"overwrite\").saveAsTable(\"dbwork1.91m_complex.highrisk\")"
   ]
  },
  {
   "cell_type": "markdown",
   "metadata": {
    "application/vnd.databricks.v1+cell": {
     "cellMetadata": {},
     "inputWidgets": {},
     "nuid": "bfed393e-649d-47d8-810a-29c60d349974",
     "showTitle": false,
     "tableResultSettingsMap": {},
     "title": ""
    }
   },
   "source": [
    "## Next steps\n",
    "1. In Databricks, use notebooks to create visualizations using the table you created above.\n",
    "2. Use SQL → Dashboards to create dashboards, or SQL → Genie to work with your data using natural language queries.\n",
    "3. To view the analysis in the full MindBridge user interface, use the analysis URL, below."
   ]
  },
  {
   "cell_type": "code",
   "execution_count": 0,
   "metadata": {
    "application/vnd.databricks.v1+cell": {
     "cellMetadata": {},
     "inputWidgets": {},
     "nuid": "1e448c67-606b-4046-8a1e-9ee5bfc4eb1e",
     "showTitle": false,
     "tableResultSettingsMap": {},
     "title": ""
    }
   },
   "outputs": [],
   "source": [
    "analysis_url = f\"https://{url}/app/organization/{organization.id}/engagement/{engagement.id}/analysis/{analysis.latest_analysis_result_id}\"\n",
    "\n",
    "print(f\"Analysis URL: {analysis_url}\")"
   ]
  }
 ],
 "metadata": {
  "application/vnd.databricks.v1+notebook": {
   "computePreferences": null,
   "dashboards": [],
   "environmentMetadata": null,
   "inputWidgetPreferences": null,
   "language": "python",
   "notebookMetadata": {
    "pythonIndentUnit": 4
   },
   "notebookName": "5_MindBridge_Databricks_Visualization_Example",
   "widgets": {}
  },
  "language_info": {
   "name": "python"
  }
 },
 "nbformat": 4,
 "nbformat_minor": 0
}

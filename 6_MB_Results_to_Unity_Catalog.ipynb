{
 "cells": [
  {
   "cell_type": "markdown",
   "metadata": {
    "application/vnd.databricks.v1+cell": {
     "cellMetadata": {},
     "inputWidgets": {},
     "nuid": "c65d2bab-5d09-4e08-812c-ab8f28f129f0",
     "showTitle": false,
     "tableResultSettingsMap": {},
     "title": ""
    }
   },
   "source": [
    "![](https://www.mindbridge.ai/wp-content/uploads/2021/07/MindBridge_Logo_Primary_RGB.png)\n",
    "# Databricks -> MindBridge Example: Subledger_Results_to_Unity_Catalog"
   ]
  },
  {
   "cell_type": "markdown",
   "metadata": {
    "application/vnd.databricks.v1+cell": {
     "cellMetadata": {},
     "inputWidgets": {},
     "nuid": "c85aa52d-38b1-464f-8e98-1e8ca3133653",
     "showTitle": false,
     "tableResultSettingsMap": {},
     "title": ""
    }
   },
   "source": [
    "## 🧾 Step 0: Setup Environment and Define Parameters\n",
    "\n",
    "📦 This step imports the necessary libraries and sets global parameters used throughout the notebook.\n",
    "\n",
    "- `token`: Your MindBridge API key\n",
    "- `catalog_table`: Unity Catalog table containing source data\n",
    "- `organization_id`, `engagement_id`, `analysis_type_id`: MindBridge context\n",
    "- `risk_threshold`: Minimum risk to export from results (use 0 for all entries)\n",
    "- `output_table_path`: Unity Catalog destination for result export\n"
   ]
  },
  {
   "cell_type": "code",
   "execution_count": 0,
   "metadata": {
    "application/vnd.databricks.v1+cell": {
     "cellMetadata": {},
     "inputWidgets": {},
     "nuid": "2dd6d1d4-9a06-4955-9cd0-9913ca4edb79",
     "showTitle": false,
     "tableResultSettingsMap": {},
     "title": ""
    }
   },
   "outputs": [],
   "source": [
    "%pip install --upgrade mindbridge-api-python-client\n",
    "dbutils.library.restartPython()"
   ]
  },
  {
   "cell_type": "markdown",
   "metadata": {
    "application/vnd.databricks.v1+cell": {
     "cellMetadata": {},
     "inputWidgets": {},
     "nuid": "edc895f3-6121-4308-bc67-4197aaf52848",
     "showTitle": false,
     "tableResultSettingsMap": {},
     "title": ""
    }
   },
   "source": [
    "## 🤖 MindBridge API Authentication\n",
    "Connect to the MindBridge platform using a securely stored API token."
   ]
  },
  {
   "cell_type": "code",
   "execution_count": 0,
   "metadata": {
    "application/vnd.databricks.v1+cell": {
     "cellMetadata": {},
     "inputWidgets": {},
     "nuid": "939024ef-5019-4aa1-b1db-ff9d3ddc2525",
     "showTitle": false,
     "tableResultSettingsMap": {},
     "title": ""
    }
   },
   "outputs": [],
   "source": [
    "# ── MindBridge API Authentication ─────────────────────────────────────────────\n",
    "# Retrieve your API token securely from Databricks secrets and set the token equal to that API key\n",
    "#\n",
    "# Before running this cell:\n",
    "# 1. Ensure your Databricks workspace has access to a secret scope linked to an Azure Key Vault.\n",
    "# 2. Store your MindBridge API token in the Key Vault under a recognizable key name.\n",
    "# 3. Replace the values below with your actual scope and key name.\n",
    "#\n",
    "# 📍 You can create or retrieve your API token by visiting:\n",
    "#     https://[your_tenant].mindbridge.ai/app/admin/api-create-token\n",
    "\n",
    "secret_scope_name = \"integration-secret-scope\"         # Replace with your secret scope\n",
    "secret_key_name = \"mindbridge-demo-api-key\"        # Replace with your key name in Azure Key Vault\n",
    "\n",
    "token = dbutils.secrets.get(scope=secret_scope_name, key=secret_key_name)\n",
    "\n",
    "print(\"✅ MindBridge API token successfully retrieved.\")\n"
   ]
  },
  {
   "cell_type": "code",
   "execution_count": 0,
   "metadata": {
    "application/vnd.databricks.v1+cell": {
     "cellMetadata": {},
     "inputWidgets": {},
     "nuid": "62980191-32f3-4bc6-ae67-b00c3562f7b2",
     "showTitle": false,
     "tableResultSettingsMap": {},
     "title": ""
    }
   },
   "outputs": [],
   "source": [
    "# ── MindBridge Configuration ──────────────────────────────────────────────\n",
    "url = \"demo.mindbridge.ai\"\n",
    "organization_id = \"67a4e11e9bf85b335ff95535\"\n",
    "engagement_id = \"6807f4517f8b8f332f5921bc\"\n",
    "analysis_type_id = \"6807f2ca1484440ffc362062\" # In your analysis configuration file, may require MB support.\n",
    "\n",
    "# ── Analysis Results Export ───────────────────────────────────────────────\n",
    "risk_threshold = 0\n",
    "# 📌 Note: Risk score is scaled by 100 (e.g., 3000 = 30.00 UI). Use 0 to include all entries.\n",
    "\n",
    "# ── Unity Catalog Output Table ─────────────────────────────────────────────\n",
    "output_catalog = \"dbwork1\"\n",
    "output_schema = \"iceberg_storage\"\n",
    "output_table_name = \"revenue_MB_results\"\n",
    "output_table_path = f\"{output_catalog}.{output_schema}.{output_table_name}\"\n"
   ]
  },
  {
   "cell_type": "markdown",
   "metadata": {
    "application/vnd.databricks.v1+cell": {
     "cellMetadata": {},
     "inputWidgets": {},
     "nuid": "d1762780-c841-41e4-b9c6-149c7c0997b7",
     "showTitle": false,
     "tableResultSettingsMap": {},
     "title": ""
    }
   },
   "source": [
    "## 📡 Connect to MindBridge API\n",
    "\n",
    "Initialize the Python client and fetch your organization and engagement context from MindBridge.\n"
   ]
  },
  {
   "cell_type": "code",
   "execution_count": 0,
   "metadata": {
    "application/vnd.databricks.v1+cell": {
     "cellMetadata": {},
     "inputWidgets": {},
     "nuid": "5dd15988-548f-4e76-8e4d-19bc886e9970",
     "showTitle": false,
     "tableResultSettingsMap": {},
     "title": ""
    }
   },
   "outputs": [],
   "source": [
    "# Import libraries\n",
    "import mindbridgeapi as mbapi\n",
    "from pathlib import Path\n",
    "import pandas as pd\n",
    "\n",
    "# Connect to the MindBridge server using the configured API key and tenant URL\n",
    "server = mbapi.Server(url=url, token=token)\n",
    "\n",
    "# Fetch organization and engagement context objects\n",
    "organization = server.organizations.get_by_id(organization_id)\n",
    "engagement = server.engagements.get_by_id(engagement_id)"
   ]
  },
  {
   "cell_type": "markdown",
   "metadata": {
    "application/vnd.databricks.v1+cell": {
     "cellMetadata": {},
     "inputWidgets": {},
     "nuid": "10918021-e04c-4421-8833-fef91f00bc5c",
     "showTitle": false,
     "tableResultSettingsMap": {},
     "title": ""
    }
   },
   "source": [
    "## 📊 Select Active Analysis\n",
    "\n",
    "Fetch the analysis object associated with the current engagement.  \n",
    "This analysis will be used when linking the uploaded file as a new source.\n"
   ]
  },
  {
   "cell_type": "code",
   "execution_count": 0,
   "metadata": {
    "application/vnd.databricks.v1+cell": {
     "cellMetadata": {},
     "inputWidgets": {},
     "nuid": "c7e86587-8676-4354-8b48-edcca9497c70",
     "showTitle": false,
     "tableResultSettingsMap": {},
     "title": ""
    }
   },
   "outputs": [],
   "source": [
    "# 🔄 Refresh the engagement to get a fresh generator\n",
    "engagement = server.engagements.get_by_id(engagement_id)\n",
    "\n",
    "# 📎 Retrieve analysis from engagement\n",
    "analyses = list(engagement.analyses)  # Convert generator to list\n",
    "\n",
    "if not analyses:\n",
    "    raise ValueError(\"❌ No analyses found in this engagement. Please create one in the MindBridge UI.\")\n",
    "elif len(analyses) > 1:\n",
    "    raise ValueError(f\"❌ Multiple analyses found ({len(analyses)}). Please ensure only one is present or filter/select explicitly.\")\n",
    "\n",
    "# ✅ Exactly one analysis found\n",
    "analysis = analyses[0]\n",
    "print(f\"✅ Using analysis (id: {analysis.id})\")"
   ]
  },
  {
   "cell_type": "markdown",
   "metadata": {
    "application/vnd.databricks.v1+cell": {
     "cellMetadata": {},
     "inputWidgets": {},
     "nuid": "eba043ab-27f5-4dd3-a913-06f9a7df4109",
     "showTitle": false,
     "tableResultSettingsMap": {},
     "title": ""
    }
   },
   "source": [
    "## 📊 View Analysis Results in MindBridge\n",
    "\n",
    "Once the analysis completes, we retrieve the latest result ID and generate a direct link to open the results within the MindBridge UI."
   ]
  },
  {
   "cell_type": "code",
   "execution_count": 0,
   "metadata": {
    "application/vnd.databricks.v1+cell": {
     "cellMetadata": {},
     "inputWidgets": {},
     "nuid": "f62444e6-4282-455f-b490-e148e447212b",
     "showTitle": false,
     "tableResultSettingsMap": {},
     "title": ""
    }
   },
   "outputs": [],
   "source": [
    "# Get the result ID for the most recent run of the analysis\n",
    "analysis_result_id = analysis.latest_analysis_result_id\n",
    "print(analysis_result_id)"
   ]
  },
  {
   "cell_type": "code",
   "execution_count": 0,
   "metadata": {
    "application/vnd.databricks.v1+cell": {
     "cellMetadata": {},
     "inputWidgets": {},
     "nuid": "e5adb734-1304-4f30-97fe-a945f8c154bd",
     "showTitle": false,
     "tableResultSettingsMap": {},
     "title": ""
    }
   },
   "outputs": [],
   "source": [
    "# Create a direct link to open the analysis results in MindBridge\n",
    "url_analysis = (\n",
    "    'https://' + url + '/app/organization/' + str(organization.id) +\n",
    "    '/engagement/' + engagement.id + \"/analysis/\" +\n",
    "    analysis_result_id + \"/analyze/risk-overview?\"\n",
    ")\n",
    "html_code = f'<a href=\"{url_analysis}\" target=\"_blank\">Open Analysis Results in MindBridge</a>'\n",
    "displayHTML(html_code)"
   ]
  },
  {
   "cell_type": "markdown",
   "metadata": {
    "application/vnd.databricks.v1+cell": {
     "cellMetadata": {},
     "inputWidgets": {},
     "nuid": "74c5d323-5bbb-4ddf-8b91-5d94217d503a",
     "showTitle": false,
     "tableResultSettingsMap": {},
     "title": ""
    }
   },
   "source": [
    "## 💾 Prepare to Export Entries from MindBridge\n",
    "\n",
    "We'll now extract entries from the analysis based on the current `risk_threshold`, save them to a local file, and prepare for writing to Unity Catalog."
   ]
  },
  {
   "cell_type": "code",
   "execution_count": 0,
   "metadata": {
    "application/vnd.databricks.v1+cell": {
     "cellMetadata": {},
     "inputWidgets": {},
     "nuid": "d1796d51-1557-4c1e-aa12-0f60d20c5e24",
     "showTitle": false,
     "tableResultSettingsMap": {},
     "title": ""
    }
   },
   "outputs": [],
   "source": [
    "# Define the output file path where results will be downloaded\n",
    "from pathlib import Path\n",
    "output_path = Path(\"/tmp/mindbridge_export_output_entries.csv\")\n"
   ]
  },
  {
   "cell_type": "code",
   "execution_count": 0,
   "metadata": {
    "application/vnd.databricks.v1+cell": {
     "cellMetadata": {},
     "inputWidgets": {},
     "nuid": "f1d4722e-c51c-4f09-bf0e-dab475ef66f0",
     "showTitle": false,
     "tableResultSettingsMap": {},
     "title": ""
    }
   },
   "outputs": [],
   "source": [
    "# Ensure the analysis results are refreshed before exporting\n",
    "server.analyses.restart_data_tables(analysis)\n",
    "\n",
    "# Inspect available data tables in the analysis and locate the main output\n",
    "for data_table in analysis.data_tables:\n",
    "    print(data_table.id, data_table.logical_name, data_table.type)"
   ]
  },
  {
   "cell_type": "markdown",
   "metadata": {
    "application/vnd.databricks.v1+cell": {
     "cellMetadata": {},
     "inputWidgets": {},
     "nuid": "2de5f5f7-8f24-4563-877d-db55d26d200f",
     "showTitle": false,
     "tableResultSettingsMap": {},
     "title": ""
    }
   },
   "source": [
    "## 📤 Export Filtered Entries from MindBridge\n",
    "\n",
    "This step pulls entries that meet your risk threshold and downloads the results as a local CSV file.\n"
   ]
  },
  {
   "cell_type": "code",
   "execution_count": 0,
   "metadata": {
    "application/vnd.databricks.v1+cell": {
     "cellMetadata": {},
     "inputWidgets": {},
     "nuid": "55b25721-f0e4-4ac2-8b6d-80aec1912582",
     "showTitle": false,
     "tableResultSettingsMap": {},
     "title": ""
    }
   },
   "outputs": [],
   "source": [
    "# Define a query to extract entries with risk >= threshold (e.g. 3000 = 30.00 in UI)\n",
    "query = { \"risk\": { \"$gte\": risk_threshold } }\n",
    "\n",
    "# Start export and wait for results to be ready\n",
    "export_async_result = server.data_tables.export(data_table, query=query)\n",
    "server.data_tables.wait_for_export(export_async_result)"
   ]
  },
  {
   "cell_type": "code",
   "execution_count": 0,
   "metadata": {
    "application/vnd.databricks.v1+cell": {
     "cellMetadata": {},
     "inputWidgets": {},
     "nuid": "9db99148-f8d2-403a-bd2d-78f2ef2571b7",
     "showTitle": false,
     "tableResultSettingsMap": {},
     "title": ""
    }
   },
   "outputs": [],
   "source": [
    "# Download the filtered entries to a local CSV file\n",
    "path_output = server.data_tables.download(\n",
    "    export_async_result,\n",
    "    output_file_path=output_path,\n",
    ")\n",
    "print(f\"✅ Success! Saved to: {path_output}\")"
   ]
  },
  {
   "cell_type": "markdown",
   "metadata": {
    "application/vnd.databricks.v1+cell": {
     "cellMetadata": {},
     "inputWidgets": {},
     "nuid": "264f9148-4490-473b-a491-a3f1fd8475de",
     "showTitle": false,
     "tableResultSettingsMap": {},
     "title": ""
    }
   },
   "source": [
    "## 🚀 Save Results to Unity Catalog for Downstream Use\n",
    "We now load the exported file, convert to Spark, and write it to Unity Catalog so it can be leveraged in downstream dashboards, reports, and workflow tools."
   ]
  },
  {
   "cell_type": "code",
   "execution_count": 0,
   "metadata": {
    "application/vnd.databricks.v1+cell": {
     "cellMetadata": {},
     "inputWidgets": {},
     "nuid": "bd5f39be-bf6b-4beb-8d02-41dd4a40b49a",
     "showTitle": false,
     "tableResultSettingsMap": {},
     "title": ""
    }
   },
   "outputs": [],
   "source": [
    "import pandas as pd\n",
    "\n",
    "# Read the local CSV output from MindBridge\n",
    "df = pd.read_csv(output_path)\n",
    "\n",
    "print(df.columns)  # Check the columns in the DataFrame\n",
    "\n",
    "# Find columns that contain '_date'\n",
    "date_columns = [col for col in df.columns if '_date' in col]\n",
    "\n",
    "if date_columns:\n",
    "    # Ensure all '_date' columns are in datetime format\n",
    "    for col in date_columns:\n",
    "        df[col] = pd.to_datetime(df[col], format='%Y-%m-%d', errors='coerce')\n",
    "else:\n",
    "    raise KeyError(\"No columns containing '_date' found in the CSV file\")\n",
    "\n",
    "# Convert to Spark DataFrame\n",
    "spark_df = spark.createDataFrame(df)\n",
    "\n",
    "display(spark_df)"
   ]
  },
  {
   "cell_type": "code",
   "execution_count": 0,
   "metadata": {
    "application/vnd.databricks.v1+cell": {
     "cellMetadata": {},
     "inputWidgets": {},
     "nuid": "80a15a61-d495-4a4e-a7a7-223d96d55b8f",
     "showTitle": false,
     "tableResultSettingsMap": {},
     "title": ""
    }
   },
   "outputs": [],
   "source": [
    "# Save results as a Delta table in Unity Catalog\n",
    "spark_df.write \\\n",
    "    .mode(\"overwrite\") \\\n",
    "    .format(\"delta\") \\\n",
    "    .saveAsTable(output_table_path)\n",
    "\n",
    "print(f\"📊 MindBridge results saved to Unity Catalog as: {output_table_path}\")\n",
    "print(\"📢 You can now publish this table to Power BI via the Databricks UI.\")"
   ]
  }
 ],
 "metadata": {
  "application/vnd.databricks.v1+notebook": {
   "computePreferences": null,
   "dashboards": [],
   "environmentMetadata": null,
   "inputWidgetPreferences": null,
   "language": "python",
   "notebookMetadata": {
    "pythonIndentUnit": 4
   },
   "notebookName": "6_MB_Results_to_Unity_Catalog",
   "widgets": {}
  },
  "language_info": {
   "name": "python"
  }
 },
 "nbformat": 4,
 "nbformat_minor": 0
}

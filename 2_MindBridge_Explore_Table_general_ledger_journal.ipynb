{
 "cells": [
  {
   "cell_type": "markdown",
   "metadata": {
    "application/vnd.databricks.v1+cell": {
     "cellMetadata": {},
     "inputWidgets": {},
     "nuid": "df55567e-7aaa-435a-bc13-da89a090fd90",
     "showTitle": false,
     "tableResultSettingsMap": {},
     "title": ""
    }
   },
   "source": [
    "![](https://www.mindbridge.ai/wp-content/uploads/2021/07/MindBridge_Logo_Primary_RGB.png)\n",
    "# Databricks -> MindBridge Example : Exploring the General Ledger within MindBridge"
   ]
  },
  {
   "cell_type": "markdown",
   "metadata": {
    "application/vnd.databricks.v1+cell": {
     "cellMetadata": {},
     "inputWidgets": {},
     "nuid": "1fbe2927-eb0b-408f-931e-d98c1428c1ec",
     "showTitle": false,
     "tableResultSettingsMap": {},
     "title": ""
    }
   },
   "source": [
    "Step 1: Query Data from the general_ledger_journal Table. Note: An example query is included below but will not work for your specific Databricks instance."
   ]
  },
  {
   "cell_type": "code",
   "execution_count": 0,
   "metadata": {
    "application/vnd.databricks.v1+cell": {
     "cellMetadata": {},
     "inputWidgets": {},
     "nuid": "045d0c66-6f03-4954-bdbb-b7d408a99f3d",
     "showTitle": false,
     "tableResultSettingsMap": {},
     "title": ""
    }
   },
   "outputs": [],
   "source": [
    "%sql\n",
    "SELECT * FROM `dbwork1`.`91m_complex`.`year_2021_general_ledger_journal_1` where transaction_id < 50000;"
   ]
  },
  {
   "cell_type": "markdown",
   "metadata": {
    "application/vnd.databricks.v1+cell": {
     "cellMetadata": {},
     "inputWidgets": {},
     "nuid": "9bcc0636-446b-4ff0-8acd-b94caecb0e09",
     "showTitle": false,
     "tableResultSettingsMap": {},
     "title": ""
    }
   },
   "source": [
    "Step 2: Save Queried Data as a Compressed File\n",
    "Note:  In the future, this will be made more direct like a [Table Share](https://adb-3836261087006569.9.azuredatabricks.net/sql/editor/6c9e5da0-f9f8-4a6f-a67a-7326f403caac?o=3836261087006569)  Note 2: Example file paths are are included below but will not work for your specific Databricks instance.\n",
    "\n"
   ]
  },
  {
   "cell_type": "code",
   "execution_count": 0,
   "metadata": {
    "application/vnd.databricks.v1+cell": {
     "cellMetadata": {},
     "inputWidgets": {},
     "nuid": "5ceb0c8d-0800-4b28-96b9-b694b82118eb",
     "showTitle": false,
     "tableResultSettingsMap": {},
     "title": ""
    }
   },
   "outputs": [],
   "source": [
    "\n",
    "# Define paths for saving compressed CSV files\n",
    "vol_path_dev = \"/Volumes/dbwork1/91m_complex/temporary/sqldf/\"\n",
    "vol_path_copy = \"/Volumes/dbwork1/91m_complex/temporary/upload.csv.gz\"\n",
    "\n",
    "# Write the SQL query results to a compressed CSV file\n",
    "_sqldf.coalesce(1).write.mode(\"overwrite\").csv(vol_path_dev, header = True, compression=\"gzip\")\n",
    "\n",
    "# Check if the CSV file was just created and copy it to a new location with a .gz extension\n",
    "file_list = dbutils.fs.ls(vol_path_dev)\n",
    "\n",
    "# Loop through files to find the CSV and rename with .gz extension\n",
    "for filename in file_list:\n",
    "  if filename.name.endswith('.csv.gz'):\n",
    "    name = filename.name\n",
    "    dbutils.fs.cp(vol_path_dev + name, vol_path_copy)\n"
   ]
  }
 ],
 "metadata": {
  "application/vnd.databricks.v1+notebook": {
   "computePreferences": null,
   "dashboards": [],
   "environmentMetadata": null,
   "inputWidgetPreferences": null,
   "language": "python",
   "notebookMetadata": {
    "pythonIndentUnit": 4
   },
   "notebookName": "2_MindBridge_Explore_Table_general_ledger_journal",
   "widgets": {}
  },
  "language_info": {
   "name": "python"
  }
 },
 "nbformat": 4,
 "nbformat_minor": 0
}
